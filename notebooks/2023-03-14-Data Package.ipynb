{
 "cells": [
  {
   "cell_type": "code",
   "execution_count": 1,
   "metadata": {},
   "outputs": [],
   "source": [
    "%%capture\n",
    "%pip install -U datapackage jupysql duckdb-engine --quiet"
   ]
  },
  {
   "cell_type": "code",
   "execution_count": 2,
   "metadata": {},
   "outputs": [],
   "source": [
    "import duckdb\n",
    "import datapackage"
   ]
  },
  {
   "cell_type": "code",
   "execution_count": 3,
   "metadata": {},
   "outputs": [],
   "source": [
    "con = duckdb.connect(\":memory:\")\n",
    "\n",
    "con.sql(\"\"\"\n",
    "    install httpfs;\n",
    "    load httpfs;\n",
    "\"\"\"\n",
    ")"
   ]
  },
  {
   "cell_type": "code",
   "execution_count": 4,
   "metadata": {},
   "outputs": [],
   "source": [
    "def datapackage_to_sql(datapackage_url: str, con: duckdb.DuckDBPyConnection):\n",
    "    package = datapackage.Package(datapackage_url)\n",
    "    for r in package.resources:\n",
    "        if r.tabular:\n",
    "            con.sql(\n",
    "                f\"\"\"\n",
    "            create or replace table {r.name.replace('-','_')} as select * from read_csv_auto('{r.source}', HEADER=TRUE);\n",
    "            \"\"\"\n",
    "            )"
   ]
  },
  {
   "cell_type": "code",
   "execution_count": 6,
   "metadata": {},
   "outputs": [],
   "source": [
    "datapackage_to_sql(\"https://raw.githubusercontent.com/datasets/un-locode/master/datapackage.json\", con)\n",
    "datapackage_to_sql('https://datahub.io/core/population/datapackage.json', con)"
   ]
  },
  {
   "cell_type": "code",
   "execution_count": 10,
   "metadata": {},
   "outputs": [
    {
     "data": {
      "text/plain": [
       "┌──────────────────────┐\n",
       "│         name         │\n",
       "│       varchar        │\n",
       "├──────────────────────┤\n",
       "│ code_list            │\n",
       "│ country_codes        │\n",
       "│ function_classifiers │\n",
       "│ population           │\n",
       "│ population_csv       │\n",
       "│ status_indicators    │\n",
       "│ subdivision_codes    │\n",
       "└──────────────────────┘"
      ]
     },
     "execution_count": 10,
     "metadata": {},
     "output_type": "execute_result"
    }
   ],
   "source": [
    "con.sql(\"show tables\")"
   ]
  },
  {
   "cell_type": "code",
   "execution_count": 24,
   "metadata": {},
   "outputs": [
    {
     "data": {
      "text/plain": [
       "┌──────────────┬───────────────────────────┬────────────┐\n",
       "│ Country Code │           Name            │ Population │\n",
       "│   varchar    │          varchar          │   int64    │\n",
       "├──────────────┼───────────────────────────┼────────────┤\n",
       "│ CAN          │ Canillo                   │   37057765 │\n",
       "│ ALB          │ Al Barsha                 │    2866376 │\n",
       "│ IND          │ Indooroodilly             │ 1352617328 │\n",
       "│ IDA          │ Jebel Ali Industrial Area │ 1640238121 │\n",
       "│ SWE          │ Swaihan                   │   10175214 │\n",
       "│ FRO          │ FOB Frontenac             │      48497 │\n",
       "│ KWT          │ Khowst                    │    4137309 │\n",
       "│ SOM          │ Sombrero                  │   15008154 │\n",
       "│ ARG          │ Argyrokastro              │   44494502 │\n",
       "│ ARG          │ Aragatsotn                │   44494502 │\n",
       "├──────────────┴───────────────────────────┴────────────┤\n",
       "│ 10 rows                                     3 columns │\n",
       "└───────────────────────────────────────────────────────┘"
      ]
     },
     "execution_count": 24,
     "metadata": {},
     "output_type": "execute_result"
    }
   ],
   "source": [
    "con.sql(\"\"\"\n",
    "select \n",
    "    \"Country Code\",\n",
    "    \"Name\",\n",
    "    \"Value\" as Population,\n",
    "from code_list left join population on code_list.Location == population.\"Country Code\" limit 10\n",
    "\"\"\")"
   ]
  }
 ],
 "metadata": {
  "kernelspec": {
   "display_name": "base",
   "language": "python",
   "name": "python3"
  },
  "language_info": {
   "codemirror_mode": {
    "name": "ipython",
    "version": 3
   },
   "file_extension": ".py",
   "mimetype": "text/x-python",
   "name": "python",
   "nbconvert_exporter": "python",
   "pygments_lexer": "ipython3",
   "version": "3.7.12"
  },
  "orig_nbformat": 4
 },
 "nbformat": 4,
 "nbformat_minor": 2
}
