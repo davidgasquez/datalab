{
 "cells": [
  {
   "attachments": {},
   "cell_type": "markdown",
   "metadata": {},
   "source": [
    "# Frictionless Data Packages\n",
    "\n",
    "This notebook walks over a few interesting things we can do over a Data Package using the [Frictionless Data](https://frictionlessdata.io/) library."
   ]
  },
  {
   "cell_type": "code",
   "execution_count": 4,
   "metadata": {},
   "outputs": [
    {
     "name": "stdout",
     "output_type": "stream",
     "text": [
      "\n",
      "\u001b[1m[\u001b[0m\u001b[34;49mnotice\u001b[0m\u001b[1;39;49m]\u001b[0m\u001b[39;49m A new release of pip available: \u001b[0m\u001b[31;49m22.3.1\u001b[0m\u001b[39;49m -> \u001b[0m\u001b[32;49m23.0.1\u001b[0m\n",
      "\u001b[1m[\u001b[0m\u001b[34;49mnotice\u001b[0m\u001b[1;39;49m]\u001b[0m\u001b[39;49m To update, run: \u001b[0m\u001b[32;49mpip install --upgrade pip\u001b[0m\n",
      "Note: you may need to restart the kernel to use updated packages.\n"
     ]
    }
   ],
   "source": [
    "%pip install frictionless --quiet"
   ]
  },
  {
   "cell_type": "code",
   "execution_count": 24,
   "metadata": {},
   "outputs": [],
   "source": [
    "from frictionless import Package, Resource\n",
    "import duckdb\n",
    "\n",
    "import pandas as pd"
   ]
  },
  {
   "attachments": {},
   "cell_type": "markdown",
   "metadata": {},
   "source": [
    "## Using an existing Data Package\n",
    "\n",
    "In this case, the [CO2 PPM - Trends in Atmospheric Carbon Dioxide](https://datahub.io/core/co2-ppm) Package. \n"
   ]
  },
  {
   "cell_type": "code",
   "execution_count": 25,
   "metadata": {},
   "outputs": [],
   "source": [
    "from frictionless import Package, Resource\n",
    "import duckdb"
   ]
  },
  {
   "cell_type": "code",
   "execution_count": 26,
   "metadata": {},
   "outputs": [],
   "source": [
    "package = Package('https://datahub.io/core/co2-ppm/datapackage.json')"
   ]
  },
  {
   "cell_type": "code",
   "execution_count": 27,
   "metadata": {},
   "outputs": [],
   "source": [
    "resource = package.get_table_resource('co2-mm-mlo')"
   ]
  },
  {
   "cell_type": "code",
   "execution_count": 29,
   "metadata": {},
   "outputs": [
    {
     "data": {
      "text/plain": [
       "┌─────────┬──────────────┬─────────┬──────────────┬────────┬────────────────┐\n",
       "│  Date   │ Decimal Date │ Average │ Interpolated │ Trend  │ Number of Days │\n",
       "│ varchar │    double    │ double  │    double    │ double │     int64      │\n",
       "├─────────┼──────────────┼─────────┼──────────────┼────────┼────────────────┤\n",
       "│ 2018-09 │     2018.708 │  405.51 │       405.51 │ 409.02 │             29 │\n",
       "│ 2018-08 │     2018.625 │  406.99 │       406.99 │  408.9 │             30 │\n",
       "│ 2018-07 │     2018.542 │  408.71 │       408.71 │ 408.32 │             27 │\n",
       "│ 2018-06 │     2018.458 │  410.79 │       410.79 │ 408.49 │             29 │\n",
       "│ 2018-05 │     2018.375 │  411.24 │       411.24 │ 407.91 │             24 │\n",
       "└─────────┴──────────────┴─────────┴──────────────┴────────┴────────────────┘"
      ]
     },
     "execution_count": 29,
     "metadata": {},
     "output_type": "execute_result"
    }
   ],
   "source": [
    "duckdb.sql(f\"select * from '{resource.path}' order by Date desc limit 5\")"
   ]
  },
  {
   "attachments": {},
   "cell_type": "markdown",
   "metadata": {},
   "source": [
    "## Packaging external data\n",
    "\n",
    "In this case, OWID COVID-19 data. They're maintaining it. We're going to package it!"
   ]
  },
  {
   "cell_type": "code",
   "execution_count": 38,
   "metadata": {},
   "outputs": [],
   "source": [
    "resource = Resource('https://gml.noaa.gov/webdata/ccgg/trends/co2/co2_mm_mlo.csv')"
   ]
  },
  {
   "attachments": {},
   "cell_type": "markdown",
   "metadata": {},
   "source": [
    "Starting with the simplest possible Package:"
   ]
  },
  {
   "cell_type": "code",
   "execution_count": 39,
   "metadata": {},
   "outputs": [],
   "source": [
    "package = Package(\n",
    "  name=\"co2-mm-mlo\",\n",
    "  title=\"Trends in Atmospheric Carbon Dioxide\",\n",
    "  resources=[resource]\n",
    ")"
   ]
  },
  {
   "cell_type": "code",
   "execution_count": 40,
   "metadata": {},
   "outputs": [
    {
     "name": "stdout",
     "output_type": "stream",
     "text": [
      "$frictionless: package/v2\n",
      "name: co2-mm-mlo\n",
      "title: Trends in Atmospheric Carbon Dioxide\n",
      "resources:\n",
      "  - name: co2_mm_mlo\n",
      "    type: table\n",
      "    path: https://gml.noaa.gov/webdata/ccgg/trends/co2/co2_mm_mlo.csv\n",
      "    scheme: https\n",
      "    format: csv\n",
      "    mediatype: text/csv\n",
      "\n"
     ]
    }
   ],
   "source": [
    "print(package.to_yaml())"
   ]
  },
  {
   "cell_type": "code",
   "execution_count": 42,
   "metadata": {},
   "outputs": [
    {
     "data": {
      "text/plain": [
       "┌───────┬───────┬──────────────┬─────────┬────────────────┬───────┬────────┬────────┐\n",
       "│ year  │ month │ decimal date │ average │ deseasonalized │ ndays │  sdev  │  unc   │\n",
       "│ int64 │ int64 │    double    │ double  │     double     │ int64 │ double │ double │\n",
       "├───────┼───────┼──────────────┼─────────┼────────────────┼───────┼────────┼────────┤\n",
       "│  2023 │     1 │    2023.0417 │  419.47 │         419.14 │    31 │    0.4 │   0.14 │\n",
       "│  2023 │     2 │     2023.125 │  420.41 │         419.49 │    25 │   0.64 │   0.25 │\n",
       "│  2022 │     1 │    2022.0417 │  418.19 │         417.86 │    29 │   0.73 │   0.26 │\n",
       "│  2022 │     2 │     2022.125 │  419.28 │         418.36 │    27 │   0.92 │   0.34 │\n",
       "│  2022 │     3 │    2022.2083 │  418.81 │         417.32 │    30 │   0.78 │   0.27 │\n",
       "└───────┴───────┴──────────────┴─────────┴────────────────┴───────┴────────┴────────┘"
      ]
     },
     "execution_count": 42,
     "metadata": {},
     "output_type": "execute_result"
    }
   ],
   "source": [
    "duckdb.sql(f\"select * from '{resource.path}' order by year desc limit 5\")"
   ]
  },
  {
   "attachments": {},
   "cell_type": "markdown",
   "metadata": {},
   "source": [
    "Now, for this to become an actual package it needs to be published somewhere. "
   ]
  },
  {
   "cell_type": "code",
   "execution_count": 45,
   "metadata": {},
   "outputs": [
    {
     "data": {
      "text/plain": [
       "'$frictionless: package/v2\\nname: co2-mm-mlo\\ntitle: Trends in Atmospheric Carbon Dioxide\\nresources:\\n  - name: co2_mm_mlo\\n    type: table\\n    path: https://gml.noaa.gov/webdata/ccgg/trends/co2/co2_mm_mlo.csv\\n    scheme: https\\n    format: csv\\n    mediatype: text/csv\\n'"
      ]
     },
     "execution_count": 45,
     "metadata": {},
     "output_type": "execute_result"
    }
   ],
   "source": [
    "package.to_yaml(\"/tmp/datapackage.yaml\")"
   ]
  },
  {
   "cell_type": "code",
   "execution_count": 50,
   "metadata": {},
   "outputs": [
    {
     "name": "stderr",
     "output_type": "stream",
     "text": [
      "  % Total    % Received % Xferd  Average Speed   Time    Time     Time  Current\n",
      "                                 Dload  Upload   Total   Spent    Left  Speed\n",
      "100   306  100    43  100   263     45    280 --:--:-- --:--:-- --:--:--   325\n"
     ]
    }
   ],
   "source": [
    "%%bash --out temp_file_path\n",
    "curl --upload-file /tmp/datapackage.yaml https://transfer.sh/datapackage.yaml"
   ]
  },
  {
   "cell_type": "code",
   "execution_count": 53,
   "metadata": {},
   "outputs": [
    {
     "data": {
      "text/plain": [
       "'https://transfer.sh/M5Ower/datapackage.yaml'"
      ]
     },
     "execution_count": 53,
     "metadata": {},
     "output_type": "execute_result"
    }
   ],
   "source": [
    "temp_file_path"
   ]
  },
  {
   "cell_type": "code",
   "execution_count": 52,
   "metadata": {},
   "outputs": [],
   "source": [
    "package = Package(temp_file_path)"
   ]
  },
  {
   "cell_type": "code",
   "execution_count": 49,
   "metadata": {},
   "outputs": [
    {
     "data": {
      "text/plain": [
       "┌───────┬───────┬──────────────┬─────────┬────────────────┬───────┬────────┬────────┐\n",
       "│ year  │ month │ decimal date │ average │ deseasonalized │ ndays │  sdev  │  unc   │\n",
       "│ int64 │ int64 │    double    │ double  │     double     │ int64 │ double │ double │\n",
       "├───────┼───────┼──────────────┼─────────┼────────────────┼───────┼────────┼────────┤\n",
       "│  2023 │     1 │    2023.0417 │  419.47 │         419.14 │    31 │    0.4 │   0.14 │\n",
       "│  2023 │     2 │     2023.125 │  420.41 │         419.49 │    25 │   0.64 │   0.25 │\n",
       "│  2022 │     1 │    2022.0417 │  418.19 │         417.86 │    29 │   0.73 │   0.26 │\n",
       "│  2022 │     2 │     2022.125 │  419.28 │         418.36 │    27 │   0.92 │   0.34 │\n",
       "│  2022 │     3 │    2022.2083 │  418.81 │         417.32 │    30 │   0.78 │   0.27 │\n",
       "└───────┴───────┴──────────────┴─────────┴────────────────┴───────┴────────┴────────┘"
      ]
     },
     "execution_count": 49,
     "metadata": {},
     "output_type": "execute_result"
    }
   ],
   "source": [
    "duckdb.sql(f\"select * from '{package.get_resource('co2_mm_mlo').path}' order by year desc limit 5\")"
   ]
  }
 ],
 "metadata": {
  "kernelspec": {
   "display_name": "base",
   "language": "python",
   "name": "python3"
  },
  "language_info": {
   "codemirror_mode": {
    "name": "ipython",
    "version": 3
   },
   "file_extension": ".py",
   "mimetype": "text/x-python",
   "name": "python",
   "nbconvert_exporter": "python",
   "pygments_lexer": "ipython3",
   "version": "3.11.2"
  },
  "orig_nbformat": 4
 },
 "nbformat": 4,
 "nbformat_minor": 2
}
