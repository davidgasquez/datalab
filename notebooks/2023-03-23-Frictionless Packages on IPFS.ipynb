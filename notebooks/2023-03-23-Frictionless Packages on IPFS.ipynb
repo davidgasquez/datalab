{
 "cells": [
  {
   "cell_type": "code",
   "execution_count": 6,
   "metadata": {},
   "outputs": [
    {
     "name": "stdout",
     "output_type": "stream",
     "text": [
      "\n",
      "\u001b[1m[\u001b[0m\u001b[34;49mnotice\u001b[0m\u001b[1;39;49m]\u001b[0m\u001b[39;49m A new release of pip available: \u001b[0m\u001b[31;49m22.3.1\u001b[0m\u001b[39;49m -> \u001b[0m\u001b[32;49m23.0.1\u001b[0m\n",
      "\u001b[1m[\u001b[0m\u001b[34;49mnotice\u001b[0m\u001b[1;39;49m]\u001b[0m\u001b[39;49m To update, run: \u001b[0m\u001b[32;49mpip install --upgrade pip\u001b[0m\n",
      "Note: you may need to restart the kernel to use updated packages.\n"
     ]
    }
   ],
   "source": [
    "%pip install frictionless --quiet"
   ]
  },
  {
   "cell_type": "code",
   "execution_count": 22,
   "metadata": {},
   "outputs": [],
   "source": [
    "from frictionless import Package\n",
    "from frictionless import Resource\n",
    "\n",
    "import pandas as pd"
   ]
  },
  {
   "cell_type": "code",
   "execution_count": 8,
   "metadata": {},
   "outputs": [],
   "source": [
    "ipfs_package = Package(\n",
    "    \"https://bafybeierqai7xkaxkyakdynw5uq7f2g4o5uz3kzvnh55thmazcff3bwgse.ipfs.w3s.link/ipfs/bafybeierqai7xkaxkyakdynw5uq7f2g4o5uz3kzvnh55thmazcff3bwgse/ipfs_datapackage.yaml\"\n",
    ")"
   ]
  },
  {
   "attachments": {},
   "cell_type": "markdown",
   "metadata": {},
   "source": [
    "In the future this could be just `Package(\"ipfs://bafybeierqai7xkaxkyakdynw5uq7f2g4o5uz3kzvnh55thmazcff3bwgse\")`"
   ]
  },
  {
   "cell_type": "code",
   "execution_count": 15,
   "metadata": {},
   "outputs": [
    {
     "data": {
      "text/plain": [
       "[{'# of the GML data': '# fields', 'namely well documented model code': ' modeled mole fractions', 'transport': ' and additional information'},\n",
       " {'# of the GML data': '# necessary for other scientists to repeat the work and to run', 'namely well documented model code': None, 'transport': None},\n",
       " {'# of the GML data': '# modified versions. Model availability includes collaborative', 'namely well documented model code': None, 'transport': None},\n",
       " {'# of the GML data': '# support for new users of the models.', 'namely well documented model code': None, 'transport': None},\n",
       " {'# of the GML data': '# --------------------------------------------------------------------', 'namely well documented model code': None, 'transport': None},\n",
       " {'# of the GML data': '#', 'namely well documented model code': None, 'transport': None},\n",
       " {'# of the GML data': '#', 'namely well documented model code': None, 'transport': None},\n",
       " {'# of the GML data': '# See gml.noaa.gov/ccgg/trends/ for additional details.', 'namely well documented model code': None, 'transport': None},\n",
       " {'# of the GML data': '#', 'namely well documented model code': None, 'transport': None},\n",
       " {'# of the GML data': '# Data from March 1958 through April 1974 have been obtained by C. David Keeling', 'namely well documented model code': None, 'transport': None}]"
      ]
     },
     "execution_count": 15,
     "metadata": {},
     "output_type": "execute_result"
    }
   ],
   "source": [
    "ipfs_package.get_resource(\"co2_mm_mlo\").read_rows()[:10]"
   ]
  },
  {
   "attachments": {},
   "cell_type": "markdown",
   "metadata": {},
   "source": [
    "## Data on IPFS"
   ]
  },
  {
   "cell_type": "code",
   "execution_count": 20,
   "metadata": {},
   "outputs": [],
   "source": [
    "ipfs_resource = Resource(\n",
    "    \"https://bafybeibpm3aubiynqgdxdrggvmucr6sf7gi4kshng5py3uxbydqsw5reoa.ipfs.w3s.link/ipfs/bafybeibpm3aubiynqgdxdrggvmucr6sf7gi4kshng5py3uxbydqsw5reoa/co2_mm_mlo.csv\"\n",
    ")"
   ]
  },
  {
   "cell_type": "code",
   "execution_count": 21,
   "metadata": {},
   "outputs": [],
   "source": [
    "native_ipfs_package = Package(\n",
    "    name=\"co2-mm-mlo\",\n",
    "    title=\"Trends in Atmospheric Carbon Dioxide\",\n",
    "    resources=[ipfs_resource],\n",
    ")"
   ]
  },
  {
   "cell_type": "code",
   "execution_count": 26,
   "metadata": {},
   "outputs": [
    {
     "data": {
      "text/html": [
       "<div>\n",
       "<style scoped>\n",
       "    .dataframe tbody tr th:only-of-type {\n",
       "        vertical-align: middle;\n",
       "    }\n",
       "\n",
       "    .dataframe tbody tr th {\n",
       "        vertical-align: top;\n",
       "    }\n",
       "\n",
       "    .dataframe thead th {\n",
       "        text-align: right;\n",
       "    }\n",
       "</style>\n",
       "<table border=\"1\" class=\"dataframe\">\n",
       "  <thead>\n",
       "    <tr style=\"text-align: right;\">\n",
       "      <th></th>\n",
       "      <th># of the GML data</th>\n",
       "      <th>namely well documented model code</th>\n",
       "      <th>transport</th>\n",
       "    </tr>\n",
       "  </thead>\n",
       "  <tbody>\n",
       "    <tr>\n",
       "      <th>50</th>\n",
       "      <td>1960</td>\n",
       "      <td>4</td>\n",
       "      <td>1960.2896</td>\n",
       "    </tr>\n",
       "    <tr>\n",
       "      <th>51</th>\n",
       "      <td>1960</td>\n",
       "      <td>5</td>\n",
       "      <td>1960.3716</td>\n",
       "    </tr>\n",
       "    <tr>\n",
       "      <th>52</th>\n",
       "      <td>1960</td>\n",
       "      <td>6</td>\n",
       "      <td>1960.4563</td>\n",
       "    </tr>\n",
       "    <tr>\n",
       "      <th>53</th>\n",
       "      <td>1960</td>\n",
       "      <td>7</td>\n",
       "      <td>1960.5383</td>\n",
       "    </tr>\n",
       "    <tr>\n",
       "      <th>54</th>\n",
       "      <td>1960</td>\n",
       "      <td>8</td>\n",
       "      <td>1960.6230</td>\n",
       "    </tr>\n",
       "    <tr>\n",
       "      <th>55</th>\n",
       "      <td>1960</td>\n",
       "      <td>9</td>\n",
       "      <td>1960.7077</td>\n",
       "    </tr>\n",
       "    <tr>\n",
       "      <th>56</th>\n",
       "      <td>1960</td>\n",
       "      <td>10</td>\n",
       "      <td>1960.7896</td>\n",
       "    </tr>\n",
       "    <tr>\n",
       "      <th>57</th>\n",
       "      <td>1960</td>\n",
       "      <td>11</td>\n",
       "      <td>1960.8743</td>\n",
       "    </tr>\n",
       "    <tr>\n",
       "      <th>58</th>\n",
       "      <td>1960</td>\n",
       "      <td>12</td>\n",
       "      <td>1960.9563</td>\n",
       "    </tr>\n",
       "    <tr>\n",
       "      <th>59</th>\n",
       "      <td>1961</td>\n",
       "      <td>1</td>\n",
       "      <td>1961.0411</td>\n",
       "    </tr>\n",
       "  </tbody>\n",
       "</table>\n",
       "</div>"
      ],
      "text/plain": [
       "   # of the GML data namely well documented model code  transport\n",
       "50              1960                                 4  1960.2896\n",
       "51              1960                                 5  1960.3716\n",
       "52              1960                                 6  1960.4563\n",
       "53              1960                                 7  1960.5383\n",
       "54              1960                                 8  1960.6230\n",
       "55              1960                                 9  1960.7077\n",
       "56              1960                                10  1960.7896\n",
       "57              1960                                11  1960.8743\n",
       "58              1960                                12  1960.9563\n",
       "59              1961                                 1  1961.0411"
      ]
     },
     "execution_count": 26,
     "metadata": {},
     "output_type": "execute_result"
    }
   ],
   "source": [
    "ipfs_resource.to_pandas()[50:60]"
   ]
  },
  {
   "attachments": {},
   "cell_type": "markdown",
   "metadata": {},
   "source": [
    "### Native IPFS support"
   ]
  },
  {
   "cell_type": "code",
   "execution_count": null,
   "metadata": {},
   "outputs": [],
   "source": [
    "# From ChatGPT :seenoevil:\n",
    "\n",
    "from frictionless import File \n",
    "import fsspec \n",
    "from frictionless.plugins import Plugin \n",
    "\n",
    "class FsspecFile(File): \n",
    "    def __init__(self, source, **options): \n",
    "        super().__init__(source, **options) \n",
    "    \n",
    "    def read_list_stream_create(self): \n",
    "        fs, path = fsspec.core.url_to_fs(self.source) \n",
    "        return fs.open(path)\n",
    "\n",
    "class FsspecPlugin(Plugin): \n",
    "    def create_file(self, source, **options): \n",
    "        return FsspecFile(source, **options)\n",
    "\n",
    "from frictionless import system from \n",
    "\n",
    "system.plugin_attach(FsspecPlugin())"
   ]
  }
 ],
 "metadata": {
  "kernelspec": {
   "display_name": "Python 3",
   "language": "python",
   "name": "python3"
  },
  "language_info": {
   "codemirror_mode": {
    "name": "ipython",
    "version": 3
   },
   "file_extension": ".py",
   "mimetype": "text/x-python",
   "name": "python",
   "nbconvert_exporter": "python",
   "pygments_lexer": "ipython3",
   "version": "3.11.2"
  },
  "orig_nbformat": 4
 },
 "nbformat": 4,
 "nbformat_minor": 2
}
