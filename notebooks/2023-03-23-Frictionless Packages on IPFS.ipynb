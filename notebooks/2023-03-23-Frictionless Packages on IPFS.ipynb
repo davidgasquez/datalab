{
 "cells": [
  {
   "attachments": {},
   "cell_type": "markdown",
   "metadata": {},
   "source": [
    "#  Frictionless Packages on IPFS"
   ]
  },
  {
   "cell_type": "code",
   "execution_count": 1,
   "metadata": {},
   "outputs": [
    {
     "name": "stdout",
     "output_type": "stream",
     "text": [
      "\n",
      "\u001b[1m[\u001b[0m\u001b[34;49mnotice\u001b[0m\u001b[1;39;49m]\u001b[0m\u001b[39;49m A new release of pip available: \u001b[0m\u001b[31;49m22.3.1\u001b[0m\u001b[39;49m -> \u001b[0m\u001b[32;49m23.0.1\u001b[0m\n",
      "\u001b[1m[\u001b[0m\u001b[34;49mnotice\u001b[0m\u001b[1;39;49m]\u001b[0m\u001b[39;49m To update, run: \u001b[0m\u001b[32;49mpip install --upgrade pip\u001b[0m\n",
      "Note: you may need to restart the kernel to use updated packages.\n"
     ]
    }
   ],
   "source": [
    "%pip install frictionless --quiet"
   ]
  },
  {
   "cell_type": "code",
   "execution_count": 2,
   "metadata": {},
   "outputs": [],
   "source": [
    "from frictionless import Package\n",
    "from frictionless import Resource\n",
    "\n",
    "import pandas as pd"
   ]
  },
  {
   "attachments": {},
   "cell_type": "markdown",
   "metadata": {},
   "source": [
    "## Metadata on IPFS"
   ]
  },
  {
   "attachments": {},
   "cell_type": "markdown",
   "metadata": {},
   "source": [
    "I've uploaded an example of a Frictionless Data package to IPFS (`bafybeierqai7xkaxkyakdynw5uq7f2g4o5uz3kzvnh55thmazcff3bwgse`). \n",
    "\n",
    "The package is a simple CSV file with a schema and a data file that lives outside of IPFS."
   ]
  },
  {
   "cell_type": "code",
   "execution_count": 4,
   "metadata": {},
   "outputs": [],
   "source": [
    "ipfs_package = Package(\n",
    "    \"https://bafybeierqai7xkaxkyakdynw5uq7f2g4o5uz3kzvnh55thmazcff3bwgse.ipfs.w3s.link/ipfs/bafybeierqai7xkaxkyakdynw5uq7f2g4o5uz3kzvnh55thmazcff3bwgse/ipfs_datapackage.yaml\"\n",
    ")"
   ]
  },
  {
   "cell_type": "code",
   "execution_count": 5,
   "metadata": {},
   "outputs": [
    {
     "name": "stdout",
     "output_type": "stream",
     "text": [
      "$frictionless: package/v2\n",
      "name: co2-mm-mlo\n",
      "title: Trends in Atmospheric Carbon Dioxide\n",
      "resources:\n",
      "  - name: co2_mm_mlo\n",
      "    type: table\n",
      "    path: https://gml.noaa.gov/webdata/ccgg/trends/co2/co2_mm_mlo.csv\n",
      "    scheme: https\n",
      "    format: csv\n",
      "    mediatype: text/csv\n",
      "\n"
     ]
    }
   ],
   "source": [
    "print(ipfs_package.to_yaml())"
   ]
  },
  {
   "attachments": {},
   "cell_type": "markdown",
   "metadata": {},
   "source": [
    "With the IPFS plugin this will be `Package(\"ipfs://bafybeierqai7xkaxkyakdynw5uq7f2g4o5uz3kzvnh55thmazcff3bwgse\")`"
   ]
  },
  {
   "cell_type": "code",
   "execution_count": 6,
   "metadata": {},
   "outputs": [],
   "source": [
    "r = ipfs_package.get_resource(\"co2_mm_mlo\")"
   ]
  },
  {
   "cell_type": "code",
   "execution_count": 7,
   "metadata": {},
   "outputs": [
    {
     "data": {
      "text/plain": [
       "[{'# of the GML data': '1960', 'namely well documented model code': '4', 'transport': '1960.2896'},\n",
       " {'# of the GML data': '1960', 'namely well documented model code': '5', 'transport': '1960.3716'},\n",
       " {'# of the GML data': '1960', 'namely well documented model code': '6', 'transport': '1960.4563'},\n",
       " {'# of the GML data': '1960', 'namely well documented model code': '7', 'transport': '1960.5383'},\n",
       " {'# of the GML data': '1960', 'namely well documented model code': '8', 'transport': '1960.6230'},\n",
       " {'# of the GML data': '1960', 'namely well documented model code': '9', 'transport': '1960.7077'},\n",
       " {'# of the GML data': '1960', 'namely well documented model code': '10', 'transport': '1960.7896'},\n",
       " {'# of the GML data': '1960', 'namely well documented model code': '11', 'transport': '1960.8743'},\n",
       " {'# of the GML data': '1960', 'namely well documented model code': '12', 'transport': '1960.9563'},\n",
       " {'# of the GML data': '1961', 'namely well documented model code': '1', 'transport': '1961.0411'}]"
      ]
     },
     "execution_count": 7,
     "metadata": {},
     "output_type": "execute_result"
    }
   ],
   "source": [
    "ipfs_package.get_resource(\"co2_mm_mlo\").read_rows()[50:60]"
   ]
  },
  {
   "attachments": {},
   "cell_type": "markdown",
   "metadata": {},
   "source": [
    "## Data on IPFS"
   ]
  },
  {
   "cell_type": "code",
   "execution_count": 8,
   "metadata": {},
   "outputs": [],
   "source": [
    "ipfs_resource = Resource(\n",
    "    \"https://bafybeibpm3aubiynqgdxdrggvmucr6sf7gi4kshng5py3uxbydqsw5reoa.ipfs.w3s.link/ipfs/bafybeibpm3aubiynqgdxdrggvmucr6sf7gi4kshng5py3uxbydqsw5reoa/co2_mm_mlo.csv\"\n",
    ")"
   ]
  },
  {
   "cell_type": "code",
   "execution_count": 9,
   "metadata": {},
   "outputs": [],
   "source": [
    "native_ipfs_package = Package(\n",
    "    name=\"co2-mm-mlo\",\n",
    "    title=\"Trends in Atmospheric Carbon Dioxide\",\n",
    "    resources=[ipfs_resource],\n",
    ")"
   ]
  },
  {
   "cell_type": "code",
   "execution_count": 10,
   "metadata": {},
   "outputs": [
    {
     "name": "stdout",
     "output_type": "stream",
     "text": [
      "$frictionless: package/v2\n",
      "name: co2-mm-mlo\n",
      "title: Trends in Atmospheric Carbon Dioxide\n",
      "resources:\n",
      "  - name: co2_mm_mlo\n",
      "    type: table\n",
      "    path: https://bafybeibpm3aubiynqgdxdrggvmucr6sf7gi4kshng5py3uxbydqsw5reoa.ipfs.w3s.link/ipfs/bafybeibpm3aubiynqgdxdrggvmucr6sf7gi4kshng5py3uxbydqsw5reoa/co2_mm_mlo.csv\n",
      "    scheme: https\n",
      "    format: csv\n",
      "    mediatype: text/csv\n",
      "\n"
     ]
    }
   ],
   "source": [
    "print(native_ipfs_package.to_yaml())"
   ]
  },
  {
   "cell_type": "code",
   "execution_count": 11,
   "metadata": {},
   "outputs": [
    {
     "data": {
      "text/html": [
       "<div>\n",
       "<style scoped>\n",
       "    .dataframe tbody tr th:only-of-type {\n",
       "        vertical-align: middle;\n",
       "    }\n",
       "\n",
       "    .dataframe tbody tr th {\n",
       "        vertical-align: top;\n",
       "    }\n",
       "\n",
       "    .dataframe thead th {\n",
       "        text-align: right;\n",
       "    }\n",
       "</style>\n",
       "<table border=\"1\" class=\"dataframe\">\n",
       "  <thead>\n",
       "    <tr style=\"text-align: right;\">\n",
       "      <th></th>\n",
       "      <th># of the GML data</th>\n",
       "      <th>namely well documented model code</th>\n",
       "      <th>transport</th>\n",
       "    </tr>\n",
       "  </thead>\n",
       "  <tbody>\n",
       "    <tr>\n",
       "      <th>50</th>\n",
       "      <td>1960</td>\n",
       "      <td>4</td>\n",
       "      <td>1960.2896</td>\n",
       "    </tr>\n",
       "    <tr>\n",
       "      <th>51</th>\n",
       "      <td>1960</td>\n",
       "      <td>5</td>\n",
       "      <td>1960.3716</td>\n",
       "    </tr>\n",
       "    <tr>\n",
       "      <th>52</th>\n",
       "      <td>1960</td>\n",
       "      <td>6</td>\n",
       "      <td>1960.4563</td>\n",
       "    </tr>\n",
       "    <tr>\n",
       "      <th>53</th>\n",
       "      <td>1960</td>\n",
       "      <td>7</td>\n",
       "      <td>1960.5383</td>\n",
       "    </tr>\n",
       "    <tr>\n",
       "      <th>54</th>\n",
       "      <td>1960</td>\n",
       "      <td>8</td>\n",
       "      <td>1960.6230</td>\n",
       "    </tr>\n",
       "    <tr>\n",
       "      <th>55</th>\n",
       "      <td>1960</td>\n",
       "      <td>9</td>\n",
       "      <td>1960.7077</td>\n",
       "    </tr>\n",
       "    <tr>\n",
       "      <th>56</th>\n",
       "      <td>1960</td>\n",
       "      <td>10</td>\n",
       "      <td>1960.7896</td>\n",
       "    </tr>\n",
       "    <tr>\n",
       "      <th>57</th>\n",
       "      <td>1960</td>\n",
       "      <td>11</td>\n",
       "      <td>1960.8743</td>\n",
       "    </tr>\n",
       "    <tr>\n",
       "      <th>58</th>\n",
       "      <td>1960</td>\n",
       "      <td>12</td>\n",
       "      <td>1960.9563</td>\n",
       "    </tr>\n",
       "    <tr>\n",
       "      <th>59</th>\n",
       "      <td>1961</td>\n",
       "      <td>1</td>\n",
       "      <td>1961.0411</td>\n",
       "    </tr>\n",
       "  </tbody>\n",
       "</table>\n",
       "</div>"
      ],
      "text/plain": [
       "   # of the GML data namely well documented model code  transport\n",
       "50              1960                                 4  1960.2896\n",
       "51              1960                                 5  1960.3716\n",
       "52              1960                                 6  1960.4563\n",
       "53              1960                                 7  1960.5383\n",
       "54              1960                                 8  1960.6230\n",
       "55              1960                                 9  1960.7077\n",
       "56              1960                                10  1960.7896\n",
       "57              1960                                11  1960.8743\n",
       "58              1960                                12  1960.9563\n",
       "59              1961                                 1  1961.0411"
      ]
     },
     "execution_count": 11,
     "metadata": {},
     "output_type": "execute_result"
    }
   ],
   "source": [
    "ipfs_resource.to_pandas()[50:60]"
   ]
  },
  {
   "attachments": {},
   "cell_type": "markdown",
   "metadata": {},
   "source": [
    "### Native IPFS support"
   ]
  },
  {
   "cell_type": "code",
   "execution_count": null,
   "metadata": {},
   "outputs": [],
   "source": [
    "# From ChatGPT :seenoevil:\n",
    "\n",
    "# from frictionless import File\n",
    "# import fsspec\n",
    "# from frictionless.plugins import Plugin\n",
    "\n",
    "# class FsspecFile(File):\n",
    "#     def __init__(self, source, **options):\n",
    "#         super().__init__(source, **options)\n",
    "\n",
    "#     def read_list_stream_create(self):\n",
    "#         fs, path = fsspec.core.url_to_fs(self.source)\n",
    "#         return fs.open(path)\n",
    "\n",
    "# class FsspecPlugin(Plugin):\n",
    "#     def create_file(self, source, **options):\n",
    "#         return FsspecFile(source, **options)\n",
    "\n",
    "# from frictionless import system\n",
    "\n",
    "# system.plugin_attach(FsspecPlugin())"
   ]
  },
  {
   "cell_type": "code",
   "execution_count": 36,
   "metadata": {},
   "outputs": [],
   "source": [
    "# from frictionless import Plugin, system\n",
    "# from frictionless.schemes.remote import RemoteLoader"
   ]
  },
  {
   "cell_type": "code",
   "execution_count": 37,
   "metadata": {},
   "outputs": [],
   "source": [
    "# class IPFSRemotePlugin(Plugin):\n",
    "#     \"\"\"Plugin for Remote Data\"\"\"\n",
    "\n",
    "#     def create_loader(self, resource):\n",
    "#         if resource.scheme in [\"ipfs\"]:\n",
    "#             cid = resource.path\n",
    "#             resource.path = f\"https://{cid}.ipfs.w3s.link/ipfs/{cid}\"\n",
    "#             return RemoteLoader(resource)\n",
    "\n",
    "# system.register('ipfs', IPFSRemotePlugin())"
   ]
  },
  {
   "cell_type": "code",
   "execution_count": 53,
   "metadata": {},
   "outputs": [],
   "source": [
    "# ipfs_resource = Resource(\"bafybeibpm3aubiynqgdxdrggvmucr6sf7gi4kshng5py3uxbydqsw5reoa\", scheme=\"ipfs\")\n",
    "# native_ipfs_package = Package(\n",
    "#     name=\"co2-mm-mlo\",\n",
    "#     title=\"Trends in Atmospheric Carbon Dioxide\",\n",
    "#     resources=[ipfs_resource],\n",
    "# )"
   ]
  },
  {
   "cell_type": "code",
   "execution_count": 54,
   "metadata": {},
   "outputs": [
    {
     "name": "stdout",
     "output_type": "stream",
     "text": [
      "$frictionless: package/v2\n",
      "name: co2-mm-mlo\n",
      "title: Trends in Atmospheric Carbon Dioxide\n",
      "resources:\n",
      "  - name: bafybeibpm3aubiynqgdxdrggvmucr6sf7gi4kshng5py3uxbydqsw5reoa\n",
      "    type: file\n",
      "    path: bafybeibpm3aubiynqgdxdrggvmucr6sf7gi4kshng5py3uxbydqsw5reoa\n",
      "    scheme: ipfs\n",
      "    format: ''\n",
      "\n"
     ]
    }
   ],
   "source": [
    "# print(native_ipfs_package.to_yaml())"
   ]
  },
  {
   "attachments": {},
   "cell_type": "markdown",
   "metadata": {},
   "source": [
    "## Bringing Data from Other Places"
   ]
  },
  {
   "cell_type": "code",
   "execution_count": 12,
   "metadata": {},
   "outputs": [],
   "source": [
    "# Use Bacalhau to run frictionless pull and update the data package with the CIDs"
   ]
  }
 ],
 "metadata": {
  "kernelspec": {
   "display_name": "Python 3",
   "language": "python",
   "name": "python3"
  },
  "language_info": {
   "codemirror_mode": {
    "name": "ipython",
    "version": 3
   },
   "file_extension": ".py",
   "mimetype": "text/x-python",
   "name": "python",
   "nbconvert_exporter": "python",
   "pygments_lexer": "ipython3",
   "version": "3.10.10"
  },
  "orig_nbformat": 4
 },
 "nbformat": 4,
 "nbformat_minor": 2
}
